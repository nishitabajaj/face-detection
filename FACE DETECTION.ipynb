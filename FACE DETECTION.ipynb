{
 "cells": [
  {
   "cell_type": "markdown",
   "metadata": {},
   "source": [
    "IMPORT LIBRARIES"
   ]
  },
  {
   "cell_type": "code",
   "execution_count": 22,
   "metadata": {},
   "outputs": [],
   "source": [
    "import cv2\n",
    "import numpy as np"
   ]
  },
  {
   "cell_type": "markdown",
   "metadata": {},
   "source": [
    "FACE DETECTION"
   ]
  },
  {
   "cell_type": "code",
   "execution_count": 23,
   "metadata": {},
   "outputs": [],
   "source": [
    "img = cv2.imread(\"C:\\\\Users\\\\Nishita Bajaj\\\\OneDrive\\\\Desktop\\\\MINOR PROJECT\\\\face.jfif\")\n",
    "face_cascade=cv2.CascadeClassifier(\"C:\\\\Users\\\\Nishita Bajaj\\\\OneDrive\\\\Desktop\\\\MINOR PROJECT\\\\haarcascade_frontalface_default.xml\")\n",
    "faces=face_cascade.detectMultiScale(img)\n",
    "\n",
    "for (x,y,w,h) in faces:\n",
    "    cv2.rectangle(img,(x,y),(x+w,y+h),(50,50,250),2)\n",
    "cv2.imshow(\"Messy\",img)\n",
    "cv2.waitKey(0)\n",
    "cv2.destroyAllWindows()"
   ]
  },
  {
   "cell_type": "markdown",
   "metadata": {},
   "source": [
    "EYE DETECTION"
   ]
  },
  {
   "cell_type": "code",
   "execution_count": 24,
   "metadata": {},
   "outputs": [],
   "source": [
    "face_cascade=cv2.CascadeClassifier(\"C:\\\\Users\\\\Nishita Bajaj\\\\OneDrive\\\\Desktop\\\\MINOR PROJECT\\\\haarcascade_frontalface_default.xml\")\n",
    "eye_cascade=cv2.CascadeClassifier(\"C:\\\\Users\\\\Nishita Bajaj\\\\OneDrive\\\\Desktop\\\\MINOR PROJECT\\\\haarcascade_eye_tree_eyeglasses.xml\")\n",
    "img=cv2.imread(\"C:\\\\Users\\\\Nishita Bajaj\\\\OneDrive\\\\Desktop\\\\face.jfif\")\n",
    "faces=face_cascade.detectMultiScale(img)\n",
    "\n",
    "for (x, y , w ,h) in faces:\n",
    "    cv2.rectangle(img, (x,y), (x+w, y+h), (255, 0 , 0), 3)\n",
    "    roi_gray = cv2.cvtColor(img[y:y+h, x:x+w], cv2.COLOR_BGR2GRAY)\n",
    "    roi_color = img[y:y+h, x:x+w]\n",
    "    eyes = eye_cascade.detectMultiScale(roi_gray)\n",
    "    for (ex, ey ,ew, eh) in eyes:\n",
    "        cv2.rectangle(roi_color, (ex,ey), (ex+ew, ey+eh), (0, 0, 255), 2)\n",
    "\n",
    "cv2.imshow(\"Image\",img)\n",
    "cv2.waitKey(0)\n",
    "cv2.destroyAllWindows()"
   ]
  }
 ],
 "metadata": {
  "kernelspec": {
   "display_name": "Python 3.10.8 64-bit",
   "language": "python",
   "name": "python3"
  },
  "language_info": {
   "codemirror_mode": {
    "name": "ipython",
    "version": 3
   },
   "file_extension": ".py",
   "mimetype": "text/x-python",
   "name": "python",
   "nbconvert_exporter": "python",
   "pygments_lexer": "ipython3",
   "version": "3.10.8"
  },
  "orig_nbformat": 4,
  "vscode": {
   "interpreter": {
    "hash": "a94823875d16f8652f42c8acb2fa1e710c6b0d6ac0bb34721edeb626e7d0625c"
   }
  }
 },
 "nbformat": 4,
 "nbformat_minor": 2
}
